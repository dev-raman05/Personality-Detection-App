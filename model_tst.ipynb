{
 "cells": [
  {
   "cell_type": "markdown",
   "id": "d216fc3f",
   "metadata": {},
   "source": [
    "# Reading the dataset"
   ]
  },
  {
   "cell_type": "code",
   "execution_count": null,
   "id": "edbc2541",
   "metadata": {},
   "outputs": [],
   "source": [
    "import numpy as np\n",
    "import pandas as pd\n",
    "import matplotlib.pyplot as plt\n",
    "import seaborn as sns\n",
    "import joblib"
   ]
  },
  {
   "cell_type": "code",
   "execution_count": null,
   "id": "85302c2e",
   "metadata": {},
   "outputs": [],
   "source": [
    "df = pd.read_csv('D:\\\\Placement\\\\ML from scratch\\\\Intro-Extro\\\\personality_dataset.csv')\n",
    "print(df.shape)\n",
    "df.head()"
   ]
  },
  {
   "cell_type": "code",
   "execution_count": null,
   "id": "7c896559",
   "metadata": {},
   "outputs": [],
   "source": [
    "df.describe()"
   ]
  },
  {
   "cell_type": "code",
   "execution_count": null,
   "id": "c8137951",
   "metadata": {},
   "outputs": [],
   "source": [
    "df.info()"
   ]
  },
  {
   "cell_type": "code",
   "execution_count": null,
   "id": "905db80f",
   "metadata": {},
   "outputs": [],
   "source": [
    "df.isna().sum()"
   ]
  },
  {
   "cell_type": "code",
   "execution_count": null,
   "id": "51838138",
   "metadata": {},
   "outputs": [],
   "source": [
    "df.dropna(inplace=True)\n",
    "df.head()"
   ]
  },
  {
   "cell_type": "markdown",
   "id": "7508777d",
   "metadata": {},
   "source": [
    "# Preparing the training and test dataset"
   ]
  },
  {
   "cell_type": "code",
   "execution_count": null,
   "id": "abcf547b",
   "metadata": {},
   "outputs": [],
   "source": [
    "from sklearn.model_selection import train_test_split\n",
    "train, test = train_test_split(df, test_size = 0.3, random_state=42)"
   ]
  },
  {
   "cell_type": "code",
   "execution_count": null,
   "id": "2bf8245b",
   "metadata": {},
   "outputs": [],
   "source": [
    "x_train = train.drop(columns=['Personality'])\n",
    "y_train = train['Personality']\n",
    "\n",
    "x_test = test.drop(columns=['Personality'])\n",
    "y_test = test['Personality']"
   ]
  },
  {
   "cell_type": "markdown",
   "id": "5c733394",
   "metadata": {},
   "source": [
    "### Preparing final dataset"
   ]
  },
  {
   "cell_type": "code",
   "execution_count": null,
   "id": "af15ed20",
   "metadata": {},
   "outputs": [],
   "source": [
    "from sklearn.pipeline import Pipeline\n",
    "from sklearn.svm import SVC"
   ]
  },
  {
   "cell_type": "code",
   "execution_count": null,
   "id": "e14b5849",
   "metadata": {},
   "outputs": [],
   "source": [
    "data_prep = joblib.load(\"data_preparation_function.pkl\")"
   ]
  },
  {
   "cell_type": "code",
   "execution_count": null,
   "id": "3ae390d1",
   "metadata": {},
   "outputs": [],
   "source": [
    "x_train_final = data_prep(x_train)\n",
    "x_test_final = data_prep(x_test)"
   ]
  },
  {
   "cell_type": "code",
   "execution_count": null,
   "id": "331c8940",
   "metadata": {},
   "outputs": [],
   "source": [
    "train_cols = x_train_final.columns.tolist()\n",
    "joblib.dump(train_cols, \"train_columns.pkl\")\n",
    "print(\"Columns saved successfully\")\n"
   ]
  },
  {
   "cell_type": "markdown",
   "id": "de06b466",
   "metadata": {},
   "source": [
    "# Preparing the model"
   ]
  },
  {
   "cell_type": "code",
   "execution_count": null,
   "id": "c33f6d3a",
   "metadata": {},
   "outputs": [],
   "source": [
    "model = SVC(kernel='linear', C=1.0, random_state=42)\n",
    "model.fit(x_train_final, y_train)\n",
    "\n",
    "y_pred = model.predict(x_test_final)"
   ]
  },
  {
   "cell_type": "markdown",
   "id": "d31e6064",
   "metadata": {},
   "source": [
    "## Testing the model"
   ]
  },
  {
   "cell_type": "code",
   "execution_count": null,
   "id": "2aae788f",
   "metadata": {},
   "outputs": [],
   "source": [
    "from sklearn.metrics import confusion_matrix, classification_report, accuracy_score"
   ]
  },
  {
   "cell_type": "code",
   "execution_count": null,
   "id": "50644957",
   "metadata": {},
   "outputs": [],
   "source": [
    "classification_rep = classification_report(y_test, y_pred)\n",
    "print(classification_rep)"
   ]
  },
  {
   "cell_type": "code",
   "execution_count": null,
   "id": "e18b2d2b",
   "metadata": {},
   "outputs": [],
   "source": [
    "confu_mat = confusion_matrix(y_test, y_pred)\n",
    "print(confu_mat)"
   ]
  },
  {
   "cell_type": "code",
   "execution_count": null,
   "id": "69d15be6",
   "metadata": {},
   "outputs": [],
   "source": [
    "score = accuracy_score(y_test, y_pred)\n",
    "print(f'Accuracy: {score:.2f}')"
   ]
  },
  {
   "cell_type": "code",
   "execution_count": null,
   "id": "32a856cc",
   "metadata": {},
   "outputs": [],
   "source": [
    "joblib.dump(model, 'personality_prediction_model.pkl')\n",
    "print(\"Model saved as personality_prediction_model.pkl\")"
   ]
  }
 ],
 "metadata": {
  "kernelspec": {
   "display_name": "Python 3",
   "language": "python",
   "name": "python3"
  },
  "language_info": {
   "codemirror_mode": {
    "name": "ipython",
    "version": 3
   },
   "file_extension": ".py",
   "mimetype": "text/x-python",
   "name": "python",
   "nbconvert_exporter": "python",
   "pygments_lexer": "ipython3",
   "version": "3.12.2"
  }
 },
 "nbformat": 4,
 "nbformat_minor": 5
}
